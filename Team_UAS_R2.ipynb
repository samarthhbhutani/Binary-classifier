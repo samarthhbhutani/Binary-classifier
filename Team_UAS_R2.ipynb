{
  "nbformat": 4,
  "nbformat_minor": 0,
  "metadata": {
    "colab": {
      "provenance": [],
      "gpuType": "T4",
      "authorship_tag": "ABX9TyMiwlUD3AiX2E9JYSg/TfZZ",
      "include_colab_link": true
    },
    "kernelspec": {
      "name": "python3",
      "display_name": "Python 3"
    },
    "language_info": {
      "name": "python"
    },
    "accelerator": "GPU"
  },
  "cells": [
    {
      "cell_type": "markdown",
      "metadata": {
        "id": "view-in-github",
        "colab_type": "text"
      },
      "source": [
        "<a href=\"https://colab.research.google.com/github/samarthhbhutani/Binary-classifier/blob/main/Team_UAS_R2.ipynb\" target=\"_parent\"><img src=\"https://colab.research.google.com/assets/colab-badge.svg\" alt=\"Open In Colab\"/></a>"
      ]
    },
    {
      "cell_type": "code",
      "execution_count": 2,
      "metadata": {
        "colab": {
          "base_uri": "https://localhost:8080/"
        },
        "id": "wKf0vnW8an89",
        "outputId": "304db4a8-1a05-44fb-d9b7-2bd469fd2790"
      },
      "outputs": [
        {
          "output_type": "stream",
          "name": "stdout",
          "text": [
            "Mounted at /content/drive\n"
          ]
        }
      ],
      "source": [
        "from google.colab import drive\n",
        "drive.mount('/content/drive')"
      ]
    },
    {
      "cell_type": "code",
      "source": [
        "import os\n",
        "import numpy as np\n",
        "import matplotlib.pyplot as plt\n",
        "from tensorflow import keras\n",
        "from sklearn.model_selection import train_test_split\n",
        "from tensorflow.keras.preprocessing.image import load_img, img_to_array\n",
        "from tensorflow.keras.models import Sequential\n",
        "from tensorflow.keras.layers import Conv2D, MaxPooling2D, Flatten, Dense"
      ],
      "metadata": {
        "id": "KUlvlkj_asVi"
      },
      "execution_count": 3,
      "outputs": []
    },
    {
      "cell_type": "code",
      "source": [
        "class1_path = '/content/drive/MyDrive/Colab_Notebooks/Forest Fire Dataset/Training/fire'\n",
        "class2_path = '/content/drive/MyDrive/Colab_Notebooks/Forest Fire Dataset/Training/nofire'"
      ],
      "metadata": {
        "id": "PzMSpHpAa7aQ"
      },
      "execution_count": 4,
      "outputs": []
    },
    {
      "cell_type": "code",
      "source": [
        "def load_and_preprocess_images(folder_path):\n",
        "    images = []\n",
        "    for filename in os.listdir(folder_path):\n",
        "        img = load_img(os.path.join(folder_path, filename), target_size=(224, 224))\n",
        "        img_array = img_to_array(img)\n",
        "        images.append(img_array)\n",
        "    return np.array(images)"
      ],
      "metadata": {
        "id": "ef2Zdu94a9Lp"
      },
      "execution_count": 5,
      "outputs": []
    },
    {
      "cell_type": "code",
      "source": [
        "class1_images = load_and_preprocess_images(class1_path)\n",
        "class2_images = load_and_preprocess_images(class2_path)\n"
      ],
      "metadata": {
        "id": "IhL_W2iDbFD3"
      },
      "execution_count": 6,
      "outputs": []
    },
    {
      "cell_type": "code",
      "source": [
        "class1_labels = np.zeros(len(class1_images))\n",
        "class2_labels = np.ones(len(class2_images))"
      ],
      "metadata": {
        "id": "HzYfhvsWbO1f"
      },
      "execution_count": 7,
      "outputs": []
    },
    {
      "cell_type": "code",
      "source": [
        "all_images = np.concatenate([class1_images, class2_images], axis=0)\n",
        "all_labels = np.concatenate([class1_labels, class2_labels], axis=0)\n"
      ],
      "metadata": {
        "id": "TwWW19Gici_T"
      },
      "execution_count": 8,
      "outputs": []
    },
    {
      "cell_type": "code",
      "source": [
        "train_images, val_images, train_labels, val_labels = train_test_split(\n",
        "    all_images, all_labels, test_size=0.2, random_state=42\n",
        ")\n"
      ],
      "metadata": {
        "id": "6fC_oDU9ckpL"
      },
      "execution_count": 9,
      "outputs": []
    },
    {
      "cell_type": "code",
      "source": [
        "model = Sequential([\n",
        "    Conv2D(32, (3, 3), activation='relu', input_shape=(224, 224, 3)),\n",
        "    MaxPooling2D((2, 2)),\n",
        "    Conv2D(64, (3, 3), activation='relu'),\n",
        "    MaxPooling2D((2, 2)),\n",
        "    Conv2D(128, (3, 3), activation='relu'),\n",
        "    MaxPooling2D((2, 2)),\n",
        "    Flatten(),\n",
        "    Dense(128, activation='relu'),\n",
        "    Dense(1, activation='sigmoid')\n",
        "])\n"
      ],
      "metadata": {
        "id": "dIsxVvmFcmgH"
      },
      "execution_count": 10,
      "outputs": []
    },
    {
      "cell_type": "code",
      "source": [
        "model.compile(optimizer='adam', loss='binary_crossentropy', metrics=['accuracy'])\n"
      ],
      "metadata": {
        "id": "vAZcEJaqcpJk"
      },
      "execution_count": 11,
      "outputs": []
    },
    {
      "cell_type": "code",
      "source": [
        "history = model.fit(train_images, train_labels, epochs=10, batch_size=32, validation_data=(val_images, val_labels))\n"
      ],
      "metadata": {
        "colab": {
          "base_uri": "https://localhost:8080/"
        },
        "id": "w7Oc3jALcqwO",
        "outputId": "75de6d63-eec4-40e4-8a14-00974228bd21"
      },
      "execution_count": 12,
      "outputs": [
        {
          "output_type": "stream",
          "name": "stdout",
          "text": [
            "Epoch 1/10\n",
            "36/36 [==============================] - 17s 84ms/step - loss: 42.5897 - accuracy: 0.8442 - val_loss: 0.3199 - val_accuracy: 0.9541\n",
            "Epoch 2/10\n",
            "36/36 [==============================] - 2s 56ms/step - loss: 0.1629 - accuracy: 0.9575 - val_loss: 0.2704 - val_accuracy: 0.9293\n",
            "Epoch 3/10\n",
            "36/36 [==============================] - 2s 60ms/step - loss: 0.1429 - accuracy: 0.9558 - val_loss: 0.2113 - val_accuracy: 0.9293\n",
            "Epoch 4/10\n",
            "36/36 [==============================] - 2s 56ms/step - loss: 0.2051 - accuracy: 0.9407 - val_loss: 0.1785 - val_accuracy: 0.9293\n",
            "Epoch 5/10\n",
            "36/36 [==============================] - 2s 55ms/step - loss: 0.1210 - accuracy: 0.9681 - val_loss: 0.1397 - val_accuracy: 0.9682\n",
            "Epoch 6/10\n",
            "36/36 [==============================] - 2s 50ms/step - loss: 0.1002 - accuracy: 0.9726 - val_loss: 0.1682 - val_accuracy: 0.9647\n",
            "Epoch 7/10\n",
            "36/36 [==============================] - 2s 55ms/step - loss: 0.0877 - accuracy: 0.9761 - val_loss: 0.1529 - val_accuracy: 0.9505\n",
            "Epoch 8/10\n",
            "36/36 [==============================] - 2s 51ms/step - loss: 0.0648 - accuracy: 0.9867 - val_loss: 0.1387 - val_accuracy: 0.9611\n",
            "Epoch 9/10\n",
            "36/36 [==============================] - 2s 54ms/step - loss: 0.0367 - accuracy: 0.9912 - val_loss: 0.1774 - val_accuracy: 0.9541\n",
            "Epoch 10/10\n",
            "36/36 [==============================] - 2s 61ms/step - loss: 0.0282 - accuracy: 0.9912 - val_loss: 0.2086 - val_accuracy: 0.9435\n"
          ]
        }
      ]
    },
    {
      "cell_type": "code",
      "source": [],
      "metadata": {
        "id": "zVLgtCZDcsnV"
      },
      "execution_count": 12,
      "outputs": []
    }
  ]
}